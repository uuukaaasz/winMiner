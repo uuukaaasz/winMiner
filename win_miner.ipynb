{
 "cells": [
  {
   "cell_type": "code",
   "execution_count": 1,
   "metadata": {
    "pycharm": {
     "name": "#%%\n"
    }
   },
   "outputs": [],
   "source": [
    "from episode_mining.winminer import WinMiner, WinMinerRules"
   ]
  },
  {
   "cell_type": "code",
   "execution_count": 2,
   "outputs": [],
   "source": [
    "sequence_dna_1 = sorted([\n",
    "    (1, 'A'), (2, 'C'), (3, 'G'), (4, 'T'), (5, 'C'), (6, 'T'), (7, 'G'),\n",
    "    (8, 'G'), (9, 'T'), (10, 'C'), (11, 'A'), (12, 'T'), (13, 'T'), (14, 'A'),\n",
    "    (15, 'G'), (16, 'C'), (17, 'A'), (18, 'T'), (19, 'C'), (20, 'G'), (21, 'T'),\n",
    "    (22, 'A'), (23, 'T'), (24, 'G'), (25, 'C'), (26, 'G'), (27, 'T'), (28, 'C'),\n",
    "    (29, 'A'), (30, 'T'), (31, 'G'), (32, 'C'), (33, 'A'), (34, 'C'), (35, 'A'),\n",
    "    (36, 'G'), (37, 'T'), (38, 'A'), (39, 'C'), (40, 'G' ), (41, 'T'), (42, 'G'),\n",
    "    (43, 'C'), (44, 'T'), (45, 'C'), (46, 'A'), (47, 'G'), (48, 'A'), (49, 'C'),\n",
    "    (50, 'T'), (51, 'G'), (52, 'C'), (53, 'G'), (54, 'T'), (55, 'A'), (56, 'G'),\n",
    "    (57, 'C'), (58, 'A'), (59, 'A'), (60, 'C'), (61, 'A'), (62, 'T'), (63, 'C'),\n",
    "    (64, 'T'), (65, 'G'), (66, 'C'), (67, 'A'), (68, 'A'), (69, 'T'), (70, 'G'),\n",
    "    (71, 'G'), (72, 'A'), (73, 'C'), (74, 'A'), (75, 'T'), (76, 'G'), (77, 'A'),\n",
    "    (78, 'G'), (79, 'T'), (80, 'A'),\n",
    "], key=lambda x:x[0])"
   ],
   "metadata": {
    "collapsed": false,
    "pycharm": {
     "name": "#%%\n"
    }
   }
  },
  {
   "cell_type": "code",
   "execution_count": 3,
   "outputs": [],
   "source": [
    "sequence_dna_2 = sorted([\n",
    "     (1, 'A'), (2, 'C'), (3, 'G'), (4, 'T'), (5, 'C'), (6, 'T'), (7, 'G'),\n",
    "    (8, 'G'), (9, 'T'), (10, 'C'), (11, 'A'), (12, 'T'), (13, 'T'), (14, 'A'),\n",
    "    (15, 'G'), (16, 'C'), (17, 'A'), (18, 'T'), (19, 'C'), (20, 'G'), (21, 'T'),\n",
    "    (22, 'A'), (23, 'C'), (24, 'G'), (25, 'T'), (26, 'C'), (27, 'T'), (28, 'G'),\n",
    "    (29, 'G'), (30, 'T'), (31, 'C'), (32, 'A'), (33, 'T'), (34, 'T'), (35, 'A'),\n",
    "    (36, 'G'), (37, 'C'), (38, 'A'), (39, 'T'), (40, 'C'), (41, 'G'), (42, 'T'),\n",
    "], key=lambda x:x[0])"
   ],
   "metadata": {
    "collapsed": false,
    "pycharm": {
     "name": "#%%\n"
    }
   }
  },
  {
   "cell_type": "code",
   "execution_count": 4,
   "outputs": [],
   "source": [
    "sequence_alarm_1 = sorted([\n",
    "(1, 'E'), (2, 'D'), (5, 'A'), (7, 'B'), (8, 'E'), (9, 'C'), (10, 'D'),\n",
    "(11, 'A'), (12, 'E'), (13, 'A'), (14, 'D'), (16, 'F'), (17, 'C'), (18, 'A'),\n",
    "(19, 'F'), (20, 'E'), (21, 'A'), (22, 'B'), (23, 'B'), (25, 'E'), (26, 'E'),\n",
    "(27, 'F'), (28, 'E'), (29, 'D'), (31, 'E'), (32, 'D'), (33, 'A'), (35, 'A'),\n",
    "(37, 'F'), (38, 'D'), (39, 'A'), (40, 'D'), (42, 'E'), (44, 'F'),\n",
    "], key=lambda x:x[0])"
   ],
   "metadata": {
    "collapsed": false,
    "pycharm": {
     "name": "#%%\n"
    }
   }
  },
  {
   "cell_type": "code",
   "execution_count": 5,
   "outputs": [],
   "source": [
    "sequence_alarm_2 = sorted([\n",
    "(1, 'F'), (2, 'A'), (5, 'B'), (7, 'A'), (8, 'E'), (9, 'D'), (10, 'B'),\n",
    "(11, 'B'), (12, 'A'), (13, 'D'), (14, 'C'), (16, 'E'), (17, 'A'), (18, 'E'),\n",
    "(19, 'B'), (20, 'A'), (21, 'C'), (22, 'B'), (23, 'A'), (25, 'E'), (26, 'E'),\n",
    "(27, 'C'), (28, 'F'), (29, 'A'), (31, 'E'), (32, 'D'), (33, 'E'), (35, 'A'),\n",
    "(37, 'B'), (38, 'C'), (39, 'A'), (40, 'F'), (42, 'E'), (44, 'D'), (46, 'B'),\n",
    "(47, 'A'), (48, 'D'), (50, 'C'), (53, 'A'), (54, 'F'), (55, 'C'), (57, 'B'),\n",
    "(58, 'D'), (59, 'A'), (60, 'E'), (61, 'C'), (62, 'B'), (65, 'A'), (67, 'D'),\n",
    "], key=lambda x:x[0])"
   ],
   "metadata": {
    "collapsed": false,
    "pycharm": {
     "name": "#%%\n"
    }
   }
  },
  {
   "cell_type": "code",
   "execution_count": 6,
   "metadata": {
    "pycharm": {
     "name": "#%%\n"
    }
   },
   "outputs": [],
   "source": [
    "alg = WinMiner(sequence_alarm_1)\n",
    "freqEpisodes = alg.win_miner(max_width=20, step=7, minFrequent=0.1)"
   ]
  },
  {
   "cell_type": "code",
   "execution_count": 7,
   "metadata": {
    "pycharm": {
     "name": "#%%\n"
    }
   },
   "outputs": [
    {
     "data": {
      "text/plain": "[{('E',): {(1, 8),\n   (8, 15),\n   (12, 19),\n   (20, 27),\n   (25, 32),\n   (26, 33),\n   (28, 35),\n   (31, 38),\n   (42, 49)},\n  ('D',): {(2, 9), (10, 17), (14, 21), (29, 36), (32, 39), (38, 45), (40, 47)},\n  ('A',): {(5, 12),\n   (11, 18),\n   (13, 20),\n   (18, 25),\n   (21, 28),\n   (33, 40),\n   (35, 42),\n   (39, 46)},\n  ('B',): {(7, 14), (22, 29), (23, 30)},\n  ('C',): {(9, 16), (17, 24)},\n  ('F',): {(16, 23), (19, 26), (27, 34), (37, 44), (44, 51)}},\n {('A', 'B'): {(13, 29)},\n  ('A', 'C'): {(5, 24)},\n  ('A', 'D'): {(5, 21), (21, 36), (33, 47)},\n  ('A', 'E'): {(5, 19), (13, 27), (18, 32), (21, 35), (35, 49)},\n  ('A', 'F'): {(5, 23), (11, 26), (18, 34), (35, 51)},\n  ('B', 'A'): {(7, 25), (23, 40)},\n  ('B', 'C'): {(7, 24)},\n  ('B', 'D'): {(7, 21), (22, 36), (23, 39)},\n  ('B', 'E'): {(7, 27), (23, 38)},\n  ('B', 'F'): {(7, 23)},\n  ('C', 'A'): {(9, 25)},\n  ('C', 'B'): {(9, 29)},\n  ('C', 'D'): {(17, 36)},\n  ('C', 'E'): {(9, 27), (17, 32)},\n  ('C', 'F'): {(9, 23), (17, 34)},\n  ('D', 'A'): {(2, 18), (10, 25), (14, 28), (32, 46)},\n  ('D', 'B'): {(14, 29)},\n  ('D', 'C'): {(2, 16), (10, 24)},\n  ('D', 'E'): {(2, 19), (10, 27), (14, 32), (32, 49)},\n  ('D', 'F'): {(10, 26), (14, 34), (29, 44), (32, 51)},\n  ('E', 'A'): {(1, 18), (8, 25), (12, 28), (26, 40), (28, 42), (31, 46)},\n  ('E', 'B'): {(12, 29)},\n  ('E', 'C'): {(1, 16), (8, 24)},\n  ('E', 'D'): {(1, 17), (20, 36), (25, 39), (31, 45)},\n  ('E', 'F'): {(8, 23), (12, 26), (20, 34), (28, 44), (31, 51)},\n  ('F', 'A'): {(27, 42)},\n  ('F', 'B'): {(16, 30)},\n  ('F', 'D'): {(19, 36), (27, 45)},\n  ('F', 'E'): {(16, 32), (19, 33)}}]"
     },
     "execution_count": 7,
     "metadata": {},
     "output_type": "execute_result"
    }
   ],
   "source": [
    "freqEpisodes"
   ]
  },
  {
   "cell_type": "code",
   "execution_count": 8,
   "metadata": {
    "pycharm": {
     "name": "#%%\n"
    }
   },
   "outputs": [
    {
     "name": "stdout",
     "output_type": "stream",
     "text": [
      "WinMinerRule: ['A'] [7] ==> ['A', 'E'] [20] [5, 0.875]\n",
      "WinMinerRule: ['A'] [14] ==> ['A', 'E'] [20] [5, 0.875]\n",
      "WinMinerRule: ['A'] [20] ==> ['A', 'E'] [20] [5, 0.875]\n",
      "WinMinerRule: ['B'] [7] ==> ['B', 'A'] [20] [2, 1.0]\n",
      "WinMinerRule: ['B'] [14] ==> ['B', 'A'] [20] [2, 1.0]\n",
      "WinMinerRule: ['B'] [20] ==> ['B', 'A'] [20] [2, 1.0]\n",
      "WinMinerRule: ['B'] [7] ==> ['B', 'D'] [20] [3, 1.0]\n",
      "WinMinerRule: ['B'] [14] ==> ['B', 'D'] [20] [3, 1.0]\n",
      "WinMinerRule: ['B'] [20] ==> ['B', 'D'] [20] [3, 1.0]\n",
      "WinMinerRule: ['B'] [7] ==> ['B', 'E'] [20] [2, 1.0]\n",
      "WinMinerRule: ['B'] [14] ==> ['B', 'E'] [20] [2, 1.0]\n",
      "WinMinerRule: ['B'] [20] ==> ['B', 'E'] [20] [2, 1.0]\n",
      "WinMinerRule: ['C'] [7] ==> ['C', 'E'] [20] [2, 1.0]\n",
      "WinMinerRule: ['C'] [14] ==> ['C', 'E'] [20] [2, 1.0]\n",
      "WinMinerRule: ['C'] [20] ==> ['C', 'E'] [20] [2, 1.0]\n",
      "WinMinerRule: ['C'] [7] ==> ['C', 'F'] [20] [2, 1.0]\n",
      "WinMinerRule: ['C'] [14] ==> ['C', 'F'] [20] [2, 1.0]\n",
      "WinMinerRule: ['C'] [20] ==> ['C', 'F'] [20] [2, 1.0]\n",
      "WinMinerRule: ['E'] [7] ==> ['E', 'A'] [20] [6, 0.8888888888888888]\n",
      "WinMinerRule: ['E'] [14] ==> ['E', 'A'] [20] [6, 0.8888888888888888]\n",
      "WinMinerRule: ['E'] [20] ==> ['E', 'A'] [20] [6, 0.8888888888888888]\n",
      "WinMinerRule: ['E'] [7] ==> ['E', 'F'] [20] [5, 0.7777777777777778]\n",
      "WinMinerRule: ['E'] [14] ==> ['E', 'F'] [20] [5, 0.7777777777777778]\n",
      "WinMinerRule: ['E'] [20] ==> ['E', 'F'] [20] [5, 0.7777777777777778]\n"
     ]
    }
   ],
   "source": [
    "win_miner_rules = WinMinerRules(freqEpisodes, max_width=20, step=7, minConfidence=0.75)\n",
    "ruleList = win_miner_rules.generateRules()\n",
    "win_miner_rules.printRules(ruleList)"
   ]
  }
 ],
 "metadata": {
  "kernelspec": {
   "display_name": "Python 3",
   "language": "python",
   "name": "python3"
  },
  "language_info": {
   "codemirror_mode": {
    "name": "ipython",
    "version": 3
   },
   "file_extension": ".py",
   "mimetype": "text/x-python",
   "name": "python",
   "nbconvert_exporter": "python",
   "pygments_lexer": "ipython3",
   "version": "3.8.2"
  }
 },
 "nbformat": 4,
 "nbformat_minor": 4
}